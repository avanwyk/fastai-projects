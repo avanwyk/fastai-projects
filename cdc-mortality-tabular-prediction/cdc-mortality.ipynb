{
 "cells": [
  {
   "cell_type": "markdown",
   "metadata": {},
   "source": [
    "# Getting stared with FastAI v1: Tabular data"
   ]
  },
  {
   "cell_type": "markdown",
   "metadata": {
    "_uuid": "7d91d64955298e2924c623795831da03dfd0b416"
   },
   "source": [
    "This notebook illustrates how to get started with FastAI v1 for Tabular Data. The notebook will focus on introducing the API to newcomers, with an overview, including installation instructions for FastAI v1, given at: https://www.avanwyk.com/getting-started-with-fastai-v1-tabular-data/.\n",
    "\n",
    "The details of the deep learning techniques used (such as embedding, learning rate cycles etc.) are not covered in this notebook. For a detailed description of the techniques used, have a look at this blog post: [http://www.fast.ai/2018/04/29/categorical-embeddings/](http://www.fast.ai/2018/04/29/categorical-embeddings/).\n",
    "\n",
    "FastAI provides a convenient way of importing a lot of commonly used modules, including Numpy and Pandas: "
   ]
  },
  {
   "cell_type": "code",
   "execution_count": null,
   "metadata": {
    "_cell_guid": "b1076dfc-b9ad-4769-8c92-a6c4dae69d19",
    "_uuid": "8f2839f25d086af736a60e9eeb907d3b93b6e0e5"
   },
   "outputs": [],
   "source": [
    "from fastai import *\n",
    "from fastai.tabular import *\n",
    "\n",
    "from sklearn.model_selection import train_test_split\n",
    "\n",
    "np.set_printoptions(precision=4, suppress=True)\n",
    "pd.set_option('display.float_format', lambda x: '%.3f' % x)"
   ]
  },
  {
   "cell_type": "markdown",
   "metadata": {
    "_uuid": "7feff102c7619e2459238721154acb42077f2d20"
   },
   "source": [
    "## Data Loading"
   ]
  },
  {
   "cell_type": "markdown",
   "metadata": {
    "_uuid": "246576ae73479056338c9e7267688cf295a21fff"
   },
   "source": [
    "Before getting to the FastAI model, we first have to prepare our data. The dataset can be download here: https://www.kaggle.com/cdc/mortality. Download the data and place it into a directory `data`. We will be attempting to predict the age of mortaility using basic demographic data. The Kaggle data is separated into CSV files by year. We will limit the data to two year's worth, simply for performance reasons. We load the yearly data in turn and then create a single dataframe containing all the data."
   ]
  },
  {
   "cell_type": "code",
   "execution_count": null,
   "metadata": {
    "_uuid": "112754746f3813bb84e3d24d2a24b4cc2b02edcf"
   },
   "outputs": [],
   "source": [
    "data_path = Path('data')"
   ]
  },
  {
   "cell_type": "code",
   "execution_count": null,
   "metadata": {
    "_uuid": "e0af2e8def7b049e44de4dbada05209f57328993"
   },
   "outputs": [
    {
     "name": "stderr",
     "output_type": "stream",
     "text": [
      "/home/avanwyk/anaconda/envs/fastai/lib/python3.6/site-packages/IPython/core/interactiveshell.py:2785: DtypeWarning: Columns (39,40,41,42,43,44,45,46,47,59,60,61,62,63,64,65,66) have mixed types. Specify dtype option on import or set low_memory=False.\n",
      "  interactivity=interactivity, compiler=compiler, result=result)\n",
      "/home/avanwyk/anaconda/envs/fastai/lib/python3.6/site-packages/IPython/core/interactiveshell.py:2785: DtypeWarning: Columns (39,40,41,42,43,44,45,46,47,59,60,61,62,63,64,65,66,67) have mixed types. Specify dtype option on import or set low_memory=False.\n",
      "  interactivity=interactivity, compiler=compiler, result=result)\n"
     ]
    }
   ],
   "source": [
    "frames = []\n",
    "\n",
    "for year in range(2005, 2007):\n",
    "    frames.append(pd.read_csv(data_path/f'{year}_data.csv'))\n",
    "    \n",
    "df = pd.concat(frames)"
   ]
  },
  {
   "cell_type": "markdown",
   "metadata": {
    "_uuid": "854424ebe8ca35d0da611f463c8046250730958d"
   },
   "source": [
    "The data contains 77 different columns (info into the meaning of the fields can be found [here](https://www.cdc.gov/nchs/nvss/mortality_public_use_data.htm)), however, we are only interested in the demographic data for this experiment, so we discard the other columns.\n"
   ]
  },
  {
   "cell_type": "code",
   "execution_count": null,
   "metadata": {
    "_uuid": "979691edfb07497bfa4b524606b5bf057f777462"
   },
   "outputs": [],
   "source": [
    "demographic_colums = ['resident_status', 'education_1989_revision', 'education_2003_revision', 'education_reporting_flag', 'sex',\n",
    "                      'detail_age_type', 'detail_age', 'marital_status', 'race']"
   ]
  },
  {
   "cell_type": "code",
   "execution_count": null,
   "metadata": {
    "_uuid": "3da8cff2be4608370d6494bec24c473f0f4bad0a"
   },
   "outputs": [],
   "source": [
    "df = df.filter(demographic_colums)"
   ]
  },
  {
   "cell_type": "code",
   "execution_count": null,
   "metadata": {
    "_uuid": "cbb9ff1495effcad74e688d99a4ee3abea4098f3"
   },
   "outputs": [
    {
     "data": {
      "text/html": [
       "<div>\n",
       "<style scoped>\n",
       "    .dataframe tbody tr th:only-of-type {\n",
       "        vertical-align: middle;\n",
       "    }\n",
       "\n",
       "    .dataframe tbody tr th {\n",
       "        vertical-align: top;\n",
       "    }\n",
       "\n",
       "    .dataframe thead th {\n",
       "        text-align: right;\n",
       "    }\n",
       "</style>\n",
       "<table border=\"1\" class=\"dataframe\">\n",
       "  <thead>\n",
       "    <tr style=\"text-align: right;\">\n",
       "      <th></th>\n",
       "      <th>resident_status</th>\n",
       "      <th>education_1989_revision</th>\n",
       "      <th>education_2003_revision</th>\n",
       "      <th>education_reporting_flag</th>\n",
       "      <th>sex</th>\n",
       "      <th>detail_age_type</th>\n",
       "      <th>detail_age</th>\n",
       "      <th>marital_status</th>\n",
       "      <th>race</th>\n",
       "    </tr>\n",
       "  </thead>\n",
       "  <tbody>\n",
       "    <tr>\n",
       "      <th>648565</th>\n",
       "      <td>2</td>\n",
       "      <td>99.000</td>\n",
       "      <td>nan</td>\n",
       "      <td>0</td>\n",
       "      <td>M</td>\n",
       "      <td>1</td>\n",
       "      <td>66</td>\n",
       "      <td>D</td>\n",
       "      <td>2</td>\n",
       "    </tr>\n",
       "    <tr>\n",
       "      <th>2383145</th>\n",
       "      <td>2</td>\n",
       "      <td>nan</td>\n",
       "      <td>1.000</td>\n",
       "      <td>1</td>\n",
       "      <td>M</td>\n",
       "      <td>1</td>\n",
       "      <td>62</td>\n",
       "      <td>M</td>\n",
       "      <td>1</td>\n",
       "    </tr>\n",
       "    <tr>\n",
       "      <th>171117</th>\n",
       "      <td>1</td>\n",
       "      <td>nan</td>\n",
       "      <td>6.000</td>\n",
       "      <td>1</td>\n",
       "      <td>F</td>\n",
       "      <td>1</td>\n",
       "      <td>68</td>\n",
       "      <td>M</td>\n",
       "      <td>1</td>\n",
       "    </tr>\n",
       "    <tr>\n",
       "      <th>960800</th>\n",
       "      <td>1</td>\n",
       "      <td>12.000</td>\n",
       "      <td>nan</td>\n",
       "      <td>0</td>\n",
       "      <td>F</td>\n",
       "      <td>1</td>\n",
       "      <td>70</td>\n",
       "      <td>W</td>\n",
       "      <td>1</td>\n",
       "    </tr>\n",
       "    <tr>\n",
       "      <th>1975305</th>\n",
       "      <td>1</td>\n",
       "      <td>nan</td>\n",
       "      <td>1.000</td>\n",
       "      <td>1</td>\n",
       "      <td>M</td>\n",
       "      <td>1</td>\n",
       "      <td>74</td>\n",
       "      <td>M</td>\n",
       "      <td>1</td>\n",
       "    </tr>\n",
       "  </tbody>\n",
       "</table>\n",
       "</div>"
      ],
      "text/plain": [
       "         resident_status  education_1989_revision  education_2003_revision  \\\n",
       "648565                 2                   99.000                      nan   \n",
       "2383145                2                      nan                    1.000   \n",
       "171117                 1                      nan                    6.000   \n",
       "960800                 1                   12.000                      nan   \n",
       "1975305                1                      nan                    1.000   \n",
       "\n",
       "         education_reporting_flag sex  detail_age_type  detail_age  \\\n",
       "648565                          0   M                1          66   \n",
       "2383145                         1   M                1          62   \n",
       "171117                          1   F                1          68   \n",
       "960800                          0   F                1          70   \n",
       "1975305                         1   M                1          74   \n",
       "\n",
       "        marital_status  race  \n",
       "648565               D     2  \n",
       "2383145              M     1  \n",
       "171117               M     1  \n",
       "960800               W     1  \n",
       "1975305              M     1  "
      ]
     },
     "execution_count": null,
     "metadata": {},
     "output_type": "execute_result"
    }
   ],
   "source": [
    "df.sample(5)"
   ]
  },
  {
   "cell_type": "markdown",
   "metadata": {
    "_uuid": "6697b6d86e368c29d502dd20ca88f152fd5c9699"
   },
   "source": [
    "### Data Pre-processing"
   ]
  },
  {
   "cell_type": "markdown",
   "metadata": {
    "_uuid": "9ec80026ea906fff6b8a260e5032c700e60094cc"
   },
   "source": [
    "The educational level is reported based on one of two systems: the 1989 revision and the 2003 revision. Here we normalize the education level to a single standard. We translate both revision's data to new categories which roughly groups similar categories from the other revision systems."
   ]
  },
  {
   "cell_type": "markdown",
   "metadata": {
    "_uuid": "e0100eec9792fcae7618d0fb7690d3d4accf8abb"
   },
   "source": [
    "category | description (highest level of education)\n",
    "--- | ---\n",
    "P | some primary school or no education\n",
    "H | some high school education\n",
    "T | some tertiary education\n",
    "U | unknown"
   ]
  },
  {
   "cell_type": "code",
   "execution_count": null,
   "metadata": {
    "_uuid": "db4e09c8ad6acb55995d267648b05290bcf6c67c"
   },
   "outputs": [],
   "source": [
    "def normalize_education(frame):\n",
    "    frame['education'] = 'U'\n",
    "    \n",
    "    filter_1989 = frame['education_reporting_flag'] == 0\n",
    "    \n",
    "    frame.loc[filter_1989 & (frame.education_1989_revision <= 8.0), 'education'] = 'P'\n",
    "    frame.loc[filter_1989 & (frame.education_1989_revision > 8.0) & (frame.education_1989_revision <= 12.0), 'education'] = 'H'\n",
    "    frame.loc[filter_1989 & (frame.education_1989_revision > 12.0) & (frame.education_1989_revision < 99.0), 'education'] = 'T'\n",
    "    frame.loc[filter_1989 & ((frame.education_1989_revision >= 99.0) | (frame.education_1989_revision.isna())), 'education'] = 'U'\n",
    "    \n",
    "    filter_2003 = frame['education_reporting_flag'] == 1\n",
    "    frame.loc[filter_2003 & (frame.education_2003_revision <= 1), 'education'] = 'P'\n",
    "    frame.loc[filter_2003 & (frame.education_2003_revision > 1) & (frame.education_2003_revision <= 3.0), 'education'] = 'H'\n",
    "    frame.loc[filter_2003 & (frame.education_2003_revision > 3) & (frame.education_2003_revision < 9), 'education'] = 'T'\n",
    "    frame.loc[filter_2003 & ((frame.education_2003_revision == 9) | (frame.education_2003_revision.isna())), 'education'] = 'U'\n",
    "    return frame"
   ]
  },
  {
   "cell_type": "markdown",
   "metadata": {
    "_uuid": "cc87b8f1c86ef310dec855f7221b1c69de6d7dfa"
   },
   "source": [
    "Similarly we have to normalize the age: we treat any death before 12 months as 1 year."
   ]
  },
  {
   "cell_type": "code",
   "execution_count": null,
   "metadata": {
    "_uuid": "200a78e8cfc4803134d7fb5c40badac3c8314c45"
   },
   "outputs": [],
   "source": [
    "def normalize_age(frame):\n",
    "    frame['age'] = np.nan\n",
    "    \n",
    "    less_than_12_months = (frame['detail_age_type'] > 1) & (frame['detail_age_type'] < 9)\n",
    "    age_in_years = frame['detail_age_type'] == 1\n",
    "    unknown_age = frame['detail_age_type'] == 9\n",
    "    \n",
    "    frame.loc[less_than_12_months, 'age'] = 1\n",
    "    frame.loc[age_in_years, 'age'] = frame[age_in_years].detail_age\n",
    "    frame.loc[unknown_age, 'age'] = np.nan\n",
    "    \n",
    "    return frame"
   ]
  },
  {
   "cell_type": "code",
   "execution_count": null,
   "metadata": {
    "_uuid": "0bf3c399fd9478c3bf3b2c2163a9c1818dd2cab0"
   },
   "outputs": [],
   "source": [
    "df = normalize_education(df)\n",
    "df = normalize_age(df)"
   ]
  },
  {
   "cell_type": "code",
   "execution_count": null,
   "metadata": {
    "_uuid": "3300f92def6d7ee61f3c9398d50c76081865e0ab"
   },
   "outputs": [
    {
     "data": {
      "text/html": [
       "<div>\n",
       "<style scoped>\n",
       "    .dataframe tbody tr th:only-of-type {\n",
       "        vertical-align: middle;\n",
       "    }\n",
       "\n",
       "    .dataframe tbody tr th {\n",
       "        vertical-align: top;\n",
       "    }\n",
       "\n",
       "    .dataframe thead th {\n",
       "        text-align: right;\n",
       "    }\n",
       "</style>\n",
       "<table border=\"1\" class=\"dataframe\">\n",
       "  <thead>\n",
       "    <tr style=\"text-align: right;\">\n",
       "      <th></th>\n",
       "      <th>resident_status</th>\n",
       "      <th>education_1989_revision</th>\n",
       "      <th>education_2003_revision</th>\n",
       "      <th>education_reporting_flag</th>\n",
       "      <th>detail_age_type</th>\n",
       "      <th>detail_age</th>\n",
       "      <th>race</th>\n",
       "      <th>age</th>\n",
       "    </tr>\n",
       "  </thead>\n",
       "  <tbody>\n",
       "    <tr>\n",
       "      <th>count</th>\n",
       "      <td>4883231.000</td>\n",
       "      <td>2743015.000</td>\n",
       "      <td>2140216.000</td>\n",
       "      <td>4883231.000</td>\n",
       "      <td>4883231.000</td>\n",
       "      <td>4883231.000</td>\n",
       "      <td>4883231.000</td>\n",
       "      <td>4882579.000</td>\n",
       "    </tr>\n",
       "    <tr>\n",
       "      <th>mean</th>\n",
       "      <td>1.220</td>\n",
       "      <td>17.979</td>\n",
       "      <td>3.401</td>\n",
       "      <td>0.438</td>\n",
       "      <td>1.035</td>\n",
       "      <td>72.567</td>\n",
       "      <td>1.562</td>\n",
       "      <td>72.311</td>\n",
       "    </tr>\n",
       "    <tr>\n",
       "      <th>std</th>\n",
       "      <td>0.495</td>\n",
       "      <td>23.265</td>\n",
       "      <td>1.841</td>\n",
       "      <td>0.496</td>\n",
       "      <td>0.360</td>\n",
       "      <td>22.565</td>\n",
       "      <td>4.767</td>\n",
       "      <td>18.989</td>\n",
       "    </tr>\n",
       "    <tr>\n",
       "      <th>min</th>\n",
       "      <td>1.000</td>\n",
       "      <td>0.000</td>\n",
       "      <td>1.000</td>\n",
       "      <td>0.000</td>\n",
       "      <td>1.000</td>\n",
       "      <td>0.000</td>\n",
       "      <td>1.000</td>\n",
       "      <td>1.000</td>\n",
       "    </tr>\n",
       "    <tr>\n",
       "      <th>25%</th>\n",
       "      <td>1.000</td>\n",
       "      <td>10.000</td>\n",
       "      <td>2.000</td>\n",
       "      <td>0.000</td>\n",
       "      <td>1.000</td>\n",
       "      <td>63.000</td>\n",
       "      <td>1.000</td>\n",
       "      <td>63.000</td>\n",
       "    </tr>\n",
       "    <tr>\n",
       "      <th>50%</th>\n",
       "      <td>1.000</td>\n",
       "      <td>12.000</td>\n",
       "      <td>3.000</td>\n",
       "      <td>0.000</td>\n",
       "      <td>1.000</td>\n",
       "      <td>77.000</td>\n",
       "      <td>1.000</td>\n",
       "      <td>77.000</td>\n",
       "    </tr>\n",
       "    <tr>\n",
       "      <th>75%</th>\n",
       "      <td>1.000</td>\n",
       "      <td>14.000</td>\n",
       "      <td>4.000</td>\n",
       "      <td>1.000</td>\n",
       "      <td>1.000</td>\n",
       "      <td>86.000</td>\n",
       "      <td>1.000</td>\n",
       "      <td>86.000</td>\n",
       "    </tr>\n",
       "    <tr>\n",
       "      <th>max</th>\n",
       "      <td>4.000</td>\n",
       "      <td>99.000</td>\n",
       "      <td>9.000</td>\n",
       "      <td>1.000</td>\n",
       "      <td>9.000</td>\n",
       "      <td>999.000</td>\n",
       "      <td>78.000</td>\n",
       "      <td>125.000</td>\n",
       "    </tr>\n",
       "  </tbody>\n",
       "</table>\n",
       "</div>"
      ],
      "text/plain": [
       "       resident_status  education_1989_revision  education_2003_revision  \\\n",
       "count      4883231.000              2743015.000              2140216.000   \n",
       "mean             1.220                   17.979                    3.401   \n",
       "std              0.495                   23.265                    1.841   \n",
       "min              1.000                    0.000                    1.000   \n",
       "25%              1.000                   10.000                    2.000   \n",
       "50%              1.000                   12.000                    3.000   \n",
       "75%              1.000                   14.000                    4.000   \n",
       "max              4.000                   99.000                    9.000   \n",
       "\n",
       "       education_reporting_flag  detail_age_type  detail_age        race  \\\n",
       "count               4883231.000      4883231.000 4883231.000 4883231.000   \n",
       "mean                      0.438            1.035      72.567       1.562   \n",
       "std                       0.496            0.360      22.565       4.767   \n",
       "min                       0.000            1.000       0.000       1.000   \n",
       "25%                       0.000            1.000      63.000       1.000   \n",
       "50%                       0.000            1.000      77.000       1.000   \n",
       "75%                       1.000            1.000      86.000       1.000   \n",
       "max                       1.000            9.000     999.000      78.000   \n",
       "\n",
       "              age  \n",
       "count 4882579.000  \n",
       "mean       72.311  \n",
       "std        18.989  \n",
       "min         1.000  \n",
       "25%        63.000  \n",
       "50%        77.000  \n",
       "75%        86.000  \n",
       "max       125.000  "
      ]
     },
     "execution_count": null,
     "metadata": {},
     "output_type": "execute_result"
    }
   ],
   "source": [
    "df.describe()"
   ]
  },
  {
   "cell_type": "markdown",
   "metadata": {
    "_uuid": "4f00afdacff800d361ad76e6a10756f147ed24cf"
   },
   "source": [
    "We can see in the dataframe description that some of the age values are missing. For the sake of simplity we can drop those rows."
   ]
  },
  {
   "cell_type": "code",
   "execution_count": null,
   "metadata": {},
   "outputs": [],
   "source": [
    "df['age'] = df['age'].astype(np.float32)"
   ]
  },
  {
   "cell_type": "code",
   "execution_count": null,
   "metadata": {
    "_uuid": "62889294f8b5e53610feede92cd92f063ad4ac46"
   },
   "outputs": [],
   "source": [
    "df = df.dropna(subset=['age'])"
   ]
  },
  {
   "cell_type": "code",
   "execution_count": null,
   "metadata": {
    "_uuid": "9c0d59eb7aefd89c98b159eeea663c7c2d013493"
   },
   "outputs": [
    {
     "data": {
      "text/html": [
       "<div>\n",
       "<style scoped>\n",
       "    .dataframe tbody tr th:only-of-type {\n",
       "        vertical-align: middle;\n",
       "    }\n",
       "\n",
       "    .dataframe tbody tr th {\n",
       "        vertical-align: top;\n",
       "    }\n",
       "\n",
       "    .dataframe thead th {\n",
       "        text-align: right;\n",
       "    }\n",
       "</style>\n",
       "<table border=\"1\" class=\"dataframe\">\n",
       "  <thead>\n",
       "    <tr style=\"text-align: right;\">\n",
       "      <th></th>\n",
       "      <th>resident_status</th>\n",
       "      <th>education_1989_revision</th>\n",
       "      <th>education_2003_revision</th>\n",
       "      <th>education_reporting_flag</th>\n",
       "      <th>sex</th>\n",
       "      <th>detail_age_type</th>\n",
       "      <th>detail_age</th>\n",
       "      <th>marital_status</th>\n",
       "      <th>race</th>\n",
       "      <th>education</th>\n",
       "      <th>age</th>\n",
       "    </tr>\n",
       "  </thead>\n",
       "  <tbody>\n",
       "    <tr>\n",
       "      <th>1391239</th>\n",
       "      <td>1</td>\n",
       "      <td>nan</td>\n",
       "      <td>3.000</td>\n",
       "      <td>1</td>\n",
       "      <td>M</td>\n",
       "      <td>1</td>\n",
       "      <td>90</td>\n",
       "      <td>W</td>\n",
       "      <td>1</td>\n",
       "      <td>H</td>\n",
       "      <td>90.000</td>\n",
       "    </tr>\n",
       "    <tr>\n",
       "      <th>145995</th>\n",
       "      <td>1</td>\n",
       "      <td>nan</td>\n",
       "      <td>6.000</td>\n",
       "      <td>1</td>\n",
       "      <td>F</td>\n",
       "      <td>1</td>\n",
       "      <td>92</td>\n",
       "      <td>W</td>\n",
       "      <td>1</td>\n",
       "      <td>T</td>\n",
       "      <td>92.000</td>\n",
       "    </tr>\n",
       "    <tr>\n",
       "      <th>1087660</th>\n",
       "      <td>1</td>\n",
       "      <td>12.000</td>\n",
       "      <td>nan</td>\n",
       "      <td>0</td>\n",
       "      <td>F</td>\n",
       "      <td>1</td>\n",
       "      <td>74</td>\n",
       "      <td>W</td>\n",
       "      <td>1</td>\n",
       "      <td>H</td>\n",
       "      <td>74.000</td>\n",
       "    </tr>\n",
       "    <tr>\n",
       "      <th>2362235</th>\n",
       "      <td>1</td>\n",
       "      <td>12.000</td>\n",
       "      <td>nan</td>\n",
       "      <td>0</td>\n",
       "      <td>F</td>\n",
       "      <td>1</td>\n",
       "      <td>86</td>\n",
       "      <td>W</td>\n",
       "      <td>1</td>\n",
       "      <td>H</td>\n",
       "      <td>86.000</td>\n",
       "    </tr>\n",
       "    <tr>\n",
       "      <th>1832611</th>\n",
       "      <td>1</td>\n",
       "      <td>12.000</td>\n",
       "      <td>nan</td>\n",
       "      <td>0</td>\n",
       "      <td>M</td>\n",
       "      <td>1</td>\n",
       "      <td>84</td>\n",
       "      <td>W</td>\n",
       "      <td>2</td>\n",
       "      <td>H</td>\n",
       "      <td>84.000</td>\n",
       "    </tr>\n",
       "  </tbody>\n",
       "</table>\n",
       "</div>"
      ],
      "text/plain": [
       "         resident_status  education_1989_revision  education_2003_revision  \\\n",
       "1391239                1                      nan                    3.000   \n",
       "145995                 1                      nan                    6.000   \n",
       "1087660                1                   12.000                      nan   \n",
       "2362235                1                   12.000                      nan   \n",
       "1832611                1                   12.000                      nan   \n",
       "\n",
       "         education_reporting_flag sex  detail_age_type  detail_age  \\\n",
       "1391239                         1   M                1          90   \n",
       "145995                          1   F                1          92   \n",
       "1087660                         0   F                1          74   \n",
       "2362235                         0   F                1          86   \n",
       "1832611                         0   M                1          84   \n",
       "\n",
       "        marital_status  race education    age  \n",
       "1391239              W     1         H 90.000  \n",
       "145995               W     1         T 92.000  \n",
       "1087660              W     1         H 74.000  \n",
       "2362235              W     1         H 86.000  \n",
       "1832611              W     2         H 84.000  "
      ]
     },
     "execution_count": null,
     "metadata": {},
     "output_type": "execute_result"
    }
   ],
   "source": [
    "df.sample(5)"
   ]
  },
  {
   "cell_type": "markdown",
   "metadata": {
    "_uuid": "cf9ec730273ecdffec61612bc22e25deb1105f65"
   },
   "source": [
    "## FastAI"
   ]
  },
  {
   "cell_type": "markdown",
   "metadata": {
    "_uuid": "91d74cb5e718171444cfe6a217403399ed42df01"
   },
   "source": [
    "Our data is now ready for us to train the model. We won't be using all the columns (as some columns are simply flags indicating the type of another column). So we discard all the columns we don't need. We also split or training data into a training and validation dataset."
   ]
  },
  {
   "cell_type": "code",
   "execution_count": null,
   "metadata": {
    "_uuid": "7d9b569cbe6233149fc647ac3b483048d1beb049"
   },
   "outputs": [],
   "source": [
    "df_fastai = df[['resident_status', 'education', 'sex', 'marital_status', 'race', 'age']]"
   ]
  },
  {
   "cell_type": "code",
   "execution_count": null,
   "metadata": {},
   "outputs": [
    {
     "data": {
      "text/html": [
       "<div>\n",
       "<style scoped>\n",
       "    .dataframe tbody tr th:only-of-type {\n",
       "        vertical-align: middle;\n",
       "    }\n",
       "\n",
       "    .dataframe tbody tr th {\n",
       "        vertical-align: top;\n",
       "    }\n",
       "\n",
       "    .dataframe thead th {\n",
       "        text-align: right;\n",
       "    }\n",
       "</style>\n",
       "<table border=\"1\" class=\"dataframe\">\n",
       "  <thead>\n",
       "    <tr style=\"text-align: right;\">\n",
       "      <th></th>\n",
       "      <th>resident_status</th>\n",
       "      <th>education</th>\n",
       "      <th>sex</th>\n",
       "      <th>marital_status</th>\n",
       "      <th>race</th>\n",
       "      <th>age</th>\n",
       "    </tr>\n",
       "  </thead>\n",
       "  <tbody>\n",
       "    <tr>\n",
       "      <th>2377379</th>\n",
       "      <td>1</td>\n",
       "      <td>T</td>\n",
       "      <td>M</td>\n",
       "      <td>M</td>\n",
       "      <td>1</td>\n",
       "      <td>78.000</td>\n",
       "    </tr>\n",
       "    <tr>\n",
       "      <th>742113</th>\n",
       "      <td>1</td>\n",
       "      <td>H</td>\n",
       "      <td>F</td>\n",
       "      <td>S</td>\n",
       "      <td>2</td>\n",
       "      <td>51.000</td>\n",
       "    </tr>\n",
       "    <tr>\n",
       "      <th>1133126</th>\n",
       "      <td>1</td>\n",
       "      <td>H</td>\n",
       "      <td>F</td>\n",
       "      <td>W</td>\n",
       "      <td>1</td>\n",
       "      <td>71.000</td>\n",
       "    </tr>\n",
       "    <tr>\n",
       "      <th>1199708</th>\n",
       "      <td>2</td>\n",
       "      <td>H</td>\n",
       "      <td>F</td>\n",
       "      <td>S</td>\n",
       "      <td>1</td>\n",
       "      <td>15.000</td>\n",
       "    </tr>\n",
       "    <tr>\n",
       "      <th>107649</th>\n",
       "      <td>1</td>\n",
       "      <td>P</td>\n",
       "      <td>M</td>\n",
       "      <td>M</td>\n",
       "      <td>1</td>\n",
       "      <td>68.000</td>\n",
       "    </tr>\n",
       "  </tbody>\n",
       "</table>\n",
       "</div>"
      ],
      "text/plain": [
       "         resident_status education sex marital_status  race    age\n",
       "2377379                1         T   M              M     1 78.000\n",
       "742113                 1         H   F              S     2 51.000\n",
       "1133126                1         H   F              W     1 71.000\n",
       "1199708                2         H   F              S     1 15.000\n",
       "107649                 1         P   M              M     1 68.000"
      ]
     },
     "execution_count": null,
     "metadata": {},
     "output_type": "execute_result"
    }
   ],
   "source": [
    "df_fastai.sample(5)"
   ]
  },
  {
   "cell_type": "code",
   "execution_count": null,
   "metadata": {
    "_uuid": "0b5a7850c3b8e4c30d244f6a64cefa0c25b9feb9"
   },
   "outputs": [],
   "source": [
    "train_df, valid_df = train_test_split(df_fastai, test_size=0.33)"
   ]
  },
  {
   "cell_type": "markdown",
   "metadata": {
    "_uuid": "ed24a446e49311b4bfead7d32de62ec4d3e536fb"
   },
   "source": [
    "The FastAI API requires us to define the dependent variable, which is the variable we are trying to predict. This is `age` in our case. Further, we need to specify the categorical columns by name such that FastAI can automatically handle them for us (more on this below)."
   ]
  },
  {
   "cell_type": "code",
   "execution_count": null,
   "metadata": {
    "_uuid": "d2ca9ee44e9c13339b950fd002f870a472911671"
   },
   "outputs": [],
   "source": [
    "dep_var = 'age'\n",
    "categorical_names = ['education', 'sex', 'marital_status']\n",
    "\n",
    "tfms = [FillMissing, Categorify]"
   ]
  },
  {
   "cell_type": "markdown",
   "metadata": {
    "_uuid": "81b31720ebd685b8347a4f9e591f547819730e88"
   },
   "source": [
    "Notice how we also define to transformations: `FillMissing` and `Categorify`.\n",
    "\n",
    "The `FillMissing` transform will fill in any missing values for the _continuous_ variable columns we have using the median to do so (by default). Read more about the transformer [here](http://docs.fast.ai/tabular.transform.html#class-fillmissing).\n",
    "\n",
    "The `Categorify` transformation will take categorical data, automatically assign ids to each of the unqiue values and replace the column values with the ids. A special id is used for missing values. Read more about the transformer [here](http://docs.fast.ai/tabular.transform.html#class-fillmissing)."
   ]
  },
  {
   "cell_type": "markdown",
   "metadata": {
    "_uuid": "0cc66fa3733a0f3a55fa464ecb4b5f87c8f1318d"
   },
   "source": [
    "We can now setup a [Tabular Dataset](http://docs.fast.ai/tabular.data.html#TabularDataset) for training.  In addition to applying the transformations above the `TabularDataset` will also *normalize* the continuous variables for us."
   ]
  },
  {
   "cell_type": "code",
   "execution_count": null,
   "metadata": {
    "_uuid": "c7c4bea6cf6009b9f716e36200e406dbce148848"
   },
   "outputs": [
    {
     "name": "stderr",
     "output_type": "stream",
     "text": [
      "/home/avanwyk/anaconda/envs/fastai/lib/python3.6/site-packages/fastai/tabular/transform.py:30: SettingWithCopyWarning: \n",
      "A value is trying to be set on a copy of a slice from a DataFrame.\n",
      "Try using .loc[row_indexer,col_indexer] = value instead\n",
      "\n",
      "See the caveats in the documentation: http://pandas.pydata.org/pandas-docs/stable/indexing.html#indexing-view-versus-copy\n",
      "  df[n] = df[n].astype('category').cat.as_ordered()\n",
      "/home/avanwyk/anaconda/envs/fastai/lib/python3.6/site-packages/fastai/tabular/transform.py:35: SettingWithCopyWarning: \n",
      "A value is trying to be set on a copy of a slice from a DataFrame.\n",
      "Try using .loc[row_indexer,col_indexer] = value instead\n",
      "\n",
      "See the caveats in the documentation: http://pandas.pydata.org/pandas-docs/stable/indexing.html#indexing-view-versus-copy\n",
      "  df[n] = pd.Categorical(df[n], categories=self.categories[n], ordered=True)\n"
     ]
    }
   ],
   "source": [
    "tabular_data = tabular_data_from_df('output', train_df, valid_df, dep_var, tfms=tfms, cat_names=categorical_names)"
   ]
  },
  {
   "cell_type": "markdown",
   "metadata": {
    "_uuid": "2cc671d1ad24a14748eee360846f3606444d8353"
   },
   "source": [
    "### Model"
   ]
  },
  {
   "cell_type": "markdown",
   "metadata": {
    "_uuid": "493e3f6d6ddfc63d0b54d1ee509d9510ba7eb066"
   },
   "source": [
    "We are now ready to create a [TabularModel](http://docs.fast.ai/tabular.models.html#class-tabularmodel). TabularModels are relatively simple models that have Embedding layers for each of the categorical variables which are concatenated with the continuous layers before being passed to a fully connected layers. The model also includes Dropout and Batchnorm layers where expected (see below for detailed depiction of the layers).\n",
    "\n",
    "In our case we use 2 fully connected layers of dimension 100. Since we are doing regression, we then have an output layer of a single dimension (which will automatically have a Linear activation) and we use a mean squared error loss function. We also specify embedding layer sizes for the two categorical layers."
   ]
  },
  {
   "cell_type": "code",
   "execution_count": null,
   "metadata": {
    "_uuid": "2794407aca949b087bfbbbb2dde198e13ce69cd0"
   },
   "outputs": [],
   "source": [
    "learn = get_tabular_learner(tabular_data,\n",
    "                            layers=[100,50,1],\n",
    "                            emb_szs={'education': 6,\n",
    "                                     'sex': 5,\n",
    "                                     'marital_status': 8})\n",
    "learn.loss_fn = F.mse_loss"
   ]
  },
  {
   "cell_type": "markdown",
   "metadata": {
    "_uuid": "007473d9e0b6a2b284a038fb79d8c66f6c439a6d"
   },
   "source": [
    "The code below outputs a detailed description of the model:"
   ]
  },
  {
   "cell_type": "code",
   "execution_count": null,
   "metadata": {
    "_uuid": "def28f7966caf60de69d614d33e69064223241fd"
   },
   "outputs": [
    {
     "data": {
      "text/plain": [
       "TabularModel(\n",
       "  (embeds): ModuleList(\n",
       "    (0): Embedding(5, 6)\n",
       "    (1): Embedding(3, 5)\n",
       "    (2): Embedding(6, 8)\n",
       "  )\n",
       "  (emb_drop): Dropout(p=0.0)\n",
       "  (bn_cont): BatchNorm1d(2, eps=1e-05, momentum=0.1, affine=True, track_running_stats=True)\n",
       "  (layers): Sequential(\n",
       "    (0): Linear(in_features=21, out_features=100, bias=True)\n",
       "    (1): ReLU(inplace)\n",
       "    (2): BatchNorm1d(100, eps=1e-05, momentum=0.1, affine=True, track_running_stats=True)\n",
       "    (3): Linear(in_features=100, out_features=50, bias=True)\n",
       "    (4): ReLU(inplace)\n",
       "    (5): BatchNorm1d(50, eps=1e-05, momentum=0.1, affine=True, track_running_stats=True)\n",
       "    (6): Linear(in_features=50, out_features=1, bias=True)\n",
       "    (7): ReLU(inplace)\n",
       "  )\n",
       ")"
      ]
     },
     "execution_count": null,
     "metadata": {},
     "output_type": "execute_result"
    }
   ],
   "source": [
    "learn.model"
   ]
  },
  {
   "cell_type": "markdown",
   "metadata": {
    "_uuid": "9f41c950aa21f7243c23b8d6ff072c1501c9deee"
   },
   "source": [
    "Finally, before starting training, we need to choose an appropriate learning rate. FastAI provides an extremely neat trick for finding an appropriate learning rate. See [here](http://docs.fast.ai/callbacks.lr_finder.html) and [here](https://arxiv.org/abs/1506.01186) for details.\n",
    "\n",
    "Applying the method is very straightfoward:"
   ]
  },
  {
   "cell_type": "code",
   "execution_count": null,
   "metadata": {
    "_uuid": "3112b6aa9277d8e56b6c7e85250f9bb3e1578fa3"
   },
   "outputs": [
    {
     "data": {
      "application/vnd.jupyter.widget-view+json": {
       "model_id": "d5d63daedc504a23b719373183e52713",
       "version_major": 2,
       "version_minor": 0
      },
      "text/plain": [
       "VBox(children=(HBox(children=(IntProgress(value=0, max=1), HTML(value='0.00% [0/1 00:00<00:00]'))), HTML(value…"
      ]
     },
     "metadata": {},
     "output_type": "display_data"
    }
   ],
   "source": [
    "learn.lr_find()"
   ]
  },
  {
   "cell_type": "markdown",
   "metadata": {
    "_uuid": "7d7bdafc27256aa30fd61a3104a93f54c12f69d5"
   },
   "source": [
    "After running `lr_find()` we can plot the losses against the learning rates that were tried:"
   ]
  },
  {
   "cell_type": "code",
   "execution_count": null,
   "metadata": {
    "_uuid": "87f3ec4b2ec40e50eb6a199cd1c89b613c5c54d4"
   },
   "outputs": [
    {
     "data": {
      "image/png": "[encoded data removed]",
      "text/plain": [
       "<Figure size 432x288 with 1 Axes>"
      ]
     },
     "metadata": {
      "needs_background": "light"
     },
     "output_type": "display_data"
    }
   ],
   "source": [
    "learn.recorder.plot()"
   ]
  },
  {
   "cell_type": "markdown",
   "metadata": {
    "_uuid": "a59226c5a70f20c5d0595a8e3695801e83d5e70e"
   },
   "source": [
    "We then choose a value that is smaller (FastAI recommends by an order of magnitude) than the point at which the loss explodes. In our case there is not increase in loss even for large learning rates, so we could try even bigger start and stop values for lr find.. For now, we will use `1e-1`."
   ]
  },
  {
   "cell_type": "code",
   "execution_count": null,
   "metadata": {
    "_uuid": "51cfb00bb06885084682421e90e40c36454607f1"
   },
   "outputs": [],
   "source": [
    "lr = 1e-1"
   ]
  },
  {
   "cell_type": "markdown",
   "metadata": {
    "_uuid": "b7bf176a2b42cd679b43ad0520460099ec37b94a"
   },
   "source": [
    "We can now train our model. FastAI supports training with [cyclical learning rates](http://docs.fast.ai/callbacks.one_cycle.html#OneCycleScheduler) (the only deep learning libary to do so out of the box), which is used when we call the `fit_one_cycle` method. Here we perform a single epoch of training:"
   ]
  },
  {
   "cell_type": "code",
   "execution_count": null,
   "metadata": {
    "_uuid": "4183fcf194d2d4502246a79b4eadd4906b78f7c4"
   },
   "outputs": [
    {
     "data": {
      "application/vnd.jupyter.widget-view+json": {
       "model_id": "",
       "version_major": 2,
       "version_minor": 0
      },
      "text/plain": [
       "VBox(children=(HBox(children=(IntProgress(value=0, max=1), HTML(value='0.00% [0/1 00:00<00:00]'))), HTML(value…"
      ]
     },
     "metadata": {},
     "output_type": "display_data"
    },
    {
     "name": "stdout",
     "output_type": "stream",
     "text": [
      "Total time: 04:39\n",
      "epoch  train loss  valid loss\n",
      "0      214.174057  218.020081  (04:39)\n",
      "\n"
     ]
    }
   ],
   "source": [
    "learn.fit_one_cycle(1, lr)"
   ]
  },
  {
   "cell_type": "markdown",
   "metadata": {
    "_uuid": "f72d3624333a573f6fe31afa42abad74197a8530"
   },
   "source": [
    "Great! Now we have a trained model, although it definitely seems to be overfitting on our data. The `recorder` records a lot of training data for us. For example, we can easily plot our loss per iterations:"
   ]
  },
  {
   "cell_type": "code",
   "execution_count": null,
   "metadata": {
    "_uuid": "9659fc0b569e9f71ae86b63ced7bb3cd21e539cf"
   },
   "outputs": [
    {
     "data": {
      "image/png": "[encoded data removed]",
      "text/plain": [
       "<Figure size 432x288 with 1 Axes>"
      ]
     },
     "metadata": {
      "needs_background": "light"
     },
     "output_type": "display_data"
    }
   ],
   "source": [
    "learn.recorder.plot_losses()"
   ]
  },
  {
   "cell_type": "markdown",
   "metadata": {
    "_uuid": "3539d58dc850ce9957e384ae88024583da2cd268"
   },
   "source": [
    "Our learning rate helped a lot, as we can see, the network converged very early in the training.\n",
    "\n",
    "We can now continue training with smaller learning rates if we wanted to and attempt to find a better minima."
   ]
  },
  {
   "cell_type": "markdown",
   "metadata": {
    "_uuid": "618a1960529b46cedea4e7510ecf11aa58050cd6"
   },
   "source": [
    "### Random Forest Baseline"
   ]
  },
  {
   "cell_type": "markdown",
   "metadata": {
    "_uuid": "c3fe30ff2996d648bf04c92a3a6ec15eecb08257"
   },
   "source": [
    "As shown [here](https://gist.github.com/dienhoa/a5adf923bd8b24b3d0eadcd61aec8c2e), we can re-use the FastAI datasets (and pre-processing) to build training data for other algorithms. For example, here we build a training and validation set for a random forest regressor to use a baseline for our DNN."
   ]
  },
  {
   "cell_type": "code",
   "execution_count": null,
   "metadata": {
    "_uuid": "7fac071a372795f2d6c56dff056bf28905138e1f"
   },
   "outputs": [],
   "source": [
    "def get_arrays(ds):\n",
    "    X_cats,X_conts = ds.cats.numpy(), ds.conts.numpy()\n",
    "    y = ds.y.numpy()\n",
    "    return np.concatenate((X_cats, X_conts), axis=1), y"
   ]
  },
  {
   "cell_type": "code",
   "execution_count": null,
   "metadata": {
    "_uuid": "a841260045413b3b206ca9c21fe42f827655c2fc"
   },
   "outputs": [],
   "source": [
    "X_train, y_train = get_arrays(tabular_data.train_ds)"
   ]
  },
  {
   "cell_type": "code",
   "execution_count": null,
   "metadata": {
    "_uuid": "2f8d4ef41950bde39e9ca3964d2f5c4624e8e3cb"
   },
   "outputs": [],
   "source": [
    "X_val, y_val = get_arrays(tabular_data.valid_ds)"
   ]
  },
  {
   "cell_type": "code",
   "execution_count": null,
   "metadata": {
    "_uuid": "2d0677b1e23ba94745f20a44ebd4b02e2337342e"
   },
   "outputs": [
    {
     "name": "stderr",
     "output_type": "stream",
     "text": [
      "/home/avanwyk/anaconda/envs/fastai/lib/python3.6/site-packages/sklearn/ensemble/forest.py:248: FutureWarning: The default value of n_estimators will change from 10 in version 0.20 to 100 in 0.22.\n",
      "  \"10 in version 0.20 to 100 in 0.22.\", FutureWarning)\n"
     ]
    },
    {
     "data": {
      "text/plain": [
       "0.43072695674825656"
      ]
     },
     "execution_count": null,
     "metadata": {},
     "output_type": "execute_result"
    }
   ],
   "source": [
    "from sklearn.ensemble import RandomForestRegressor\n",
    "\n",
    "rf = RandomForestRegressor()\n",
    "\n",
    "rf.fit(X_train,y_train)\n",
    "\n",
    "rf.score(X_val, y_val)"
   ]
  },
  {
   "cell_type": "code",
   "execution_count": null,
   "metadata": {
    "_uuid": "72c90b980100a3b18113376055eed17103780cea"
   },
   "outputs": [
    {
     "data": {
      "text/plain": [
       "204.51403268746253"
      ]
     },
     "execution_count": null,
     "metadata": {},
     "output_type": "execute_result"
    }
   ],
   "source": [
    "from sklearn.metrics import mean_squared_error\n",
    "\n",
    "mean_squared_error(y_val, rf.predict(X_val))"
   ]
  },
  {
   "cell_type": "markdown",
   "metadata": {},
   "source": [
    "Seems like we have some work to do to optimize our network. Likely we can simply tune our learning rate decay to use a much smaller learning rate near the end of the epoch."
   ]
  },
  {
   "cell_type": "markdown",
   "metadata": {
    "_uuid": "ced9077f3e2cd889322bccee88e6b30c253439bb"
   },
   "source": [
    "## References\n",
    "Please have a look at the excellent FastAI docs for a detailed overview of the API: http://docs.fast.ai. \n",
    "\n",
    "The FastAI forums are also worth mentioning, it's one of the most active and inclusive Deep Learning forums out there: http://forums.fast.ai"
   ]
  },
  {
   "cell_type": "code",
   "execution_count": null,
   "metadata": {
    "_uuid": "9b57e08bfe5b700182d8aa8292be236bb26ee04c"
   },
   "outputs": [],
   "source": []
  }
 ],
 "metadata": {
  "kernelspec": {
   "display_name": "Python 3",
   "language": "python",
   "name": "python3"
  },
  "language_info": {
   "codemirror_mode": {
    "name": "ipython",
    "version": 3
   },
   "file_extension": ".py",
   "mimetype": "text/x-python",
   "name": "python",
   "nbconvert_exporter": "python",
   "pygments_lexer": "ipython3",
   "version": "3.6.6"
  }
 },
 "nbformat": 4,
 "nbformat_minor": 1
}
